{
 "cells": [
  {
   "cell_type": "code",
   "execution_count": 1,
   "id": "ed4121ea",
   "metadata": {},
   "outputs": [],
   "source": [
    "from rackuten_project_lib import *"
   ]
  },
  {
   "cell_type": "code",
   "execution_count": 11,
   "id": "35d88260",
   "metadata": {},
   "outputs": [],
   "source": [
    "path= 'D:/DataScienTest_WorkSpace/WS/Travail_Final/Datasets/'"
   ]
  },
  {
   "cell_type": "code",
   "execution_count": 19,
   "id": "50668996",
   "metadata": {},
   "outputs": [],
   "source": [
    "train = pd.read_pickle(path + 'train_cleaned&Labels_V1.pkl')\n"
   ]
  },
  {
   "cell_type": "code",
   "execution_count": 22,
   "id": "2bda77e4",
   "metadata": {},
   "outputs": [
    {
     "data": {
      "text/html": [
       "<div>\n",
       "<style scoped>\n",
       "    .dataframe tbody tr th:only-of-type {\n",
       "        vertical-align: middle;\n",
       "    }\n",
       "\n",
       "    .dataframe tbody tr th {\n",
       "        vertical-align: top;\n",
       "    }\n",
       "\n",
       "    .dataframe thead th {\n",
       "        text-align: right;\n",
       "    }\n",
       "</style>\n",
       "<table border=\"1\" class=\"dataframe\">\n",
       "  <thead>\n",
       "    <tr style=\"text-align: right;\">\n",
       "      <th></th>\n",
       "      <th>designation</th>\n",
       "      <th>description</th>\n",
       "      <th>productid</th>\n",
       "      <th>imageid</th>\n",
       "      <th>text</th>\n",
       "      <th>prdtypecode</th>\n",
       "      <th>labels</th>\n",
       "      <th>prdtypecode_org</th>\n",
       "    </tr>\n",
       "  </thead>\n",
       "  <tbody>\n",
       "    <tr>\n",
       "      <th>0</th>\n",
       "      <td>Olivia: Personalisiertes Notizbuch / 150 Seite...</td>\n",
       "      <td>&lt;NA&gt;</td>\n",
       "      <td>3804725264</td>\n",
       "      <td>1263597046</td>\n",
       "      <td>olivia personalisiertes notizbuch seiten punkt...</td>\n",
       "      <td>10</td>\n",
       "      <td>adult books</td>\n",
       "      <td>10</td>\n",
       "    </tr>\n",
       "  </tbody>\n",
       "</table>\n",
       "</div>"
      ],
      "text/plain": [
       "                                         designation description   productid  \\\n",
       "0  Olivia: Personalisiertes Notizbuch / 150 Seite...        <NA>  3804725264   \n",
       "\n",
       "      imageid                                               text  prdtypecode  \\\n",
       "0  1263597046  olivia personalisiertes notizbuch seiten punkt...           10   \n",
       "\n",
       "        labels  prdtypecode_org  \n",
       "0  adult books               10  "
      ]
     },
     "execution_count": 22,
     "metadata": {},
     "output_type": "execute_result"
    }
   ],
   "source": [
    "train.head(1)"
   ]
  },
  {
   "cell_type": "code",
   "execution_count": 8,
   "id": "8fa6abed",
   "metadata": {},
   "outputs": [
    {
     "data": {
      "text/plain": [
       "{10: 3116,\n",
       " 40: 2508,\n",
       " 50: 1681,\n",
       " 60: 832,\n",
       " 1140: 2671,\n",
       " 1160: 3953,\n",
       " 1180: 764,\n",
       " 1280: 4870,\n",
       " 1281: 2070,\n",
       " 1300: 5045,\n",
       " 1301: 807,\n",
       " 1302: 2491,\n",
       " 1320: 3241,\n",
       " 1560: 5073,\n",
       " 1920: 4303,\n",
       " 1940: 803,\n",
       " 2060: 4993,\n",
       " 2220: 824,\n",
       " 2280: 4760,\n",
       " 2403: 4774,\n",
       " 2462: 1421,\n",
       " 2522: 4989,\n",
       " 2582: 2589,\n",
       " 2583: 10209,\n",
       " 2585: 2496,\n",
       " 2705: 2761,\n",
       " 2905: 872}"
      ]
     },
     "execution_count": 8,
     "metadata": {},
     "output_type": "execute_result"
    }
   ],
   "source": [
    "unique, counts = np.unique(train[\"prdtypecode\"], return_counts=True)\n",
    "dict(zip(unique, counts))"
   ]
  },
  {
   "cell_type": "markdown",
   "id": "b541e8e2",
   "metadata": {},
   "source": [
    "***Change the 27 product codes to 0 to 26 (Mondatory for DL models training)***"
   ]
  },
  {
   "cell_type": "code",
   "execution_count": 23,
   "id": "83e9d2f9",
   "metadata": {},
   "outputs": [],
   "source": [
    "train[\"prdtypecode_org\"] = train[\"prdtypecode\"]"
   ]
  },
  {
   "cell_type": "code",
   "execution_count": 24,
   "id": "4bac9921",
   "metadata": {},
   "outputs": [],
   "source": [
    "train.replace({'prdtypecode':      {10:0,\n",
    "                                    40:1,\n",
    "                                    50:2,\n",
    "                                    60:3,\n",
    "                                    1140:4,\n",
    "                                    1160:5,\n",
    "                                    1180:6,\n",
    "                                    1280:7,\n",
    "                                    1281:8,\n",
    "                                    1300:9                                    \n",
    "                                    }}, inplace = True)\n",
    "\n",
    "train.replace({'prdtypecode':       {1301:10,\n",
    "                                    1302:11,\n",
    "                                    1320:12,\n",
    "                                    1560:13,\n",
    "                                    1920:14,\n",
    "                                    1940:15,\n",
    "                                    2060:16,\n",
    "                                    2220:17,\n",
    "                                    2280:18,\n",
    "                                    2403:19,\n",
    "                                    2462:20,\n",
    "                                    2522:21,\n",
    "                                    2582:22,\n",
    "                                    2583:23,\n",
    "                                    2585:24,\n",
    "                                    2705:25,\n",
    "                                    2905:26\n",
    "                                    }}, inplace = True)"
   ]
  },
  {
   "cell_type": "code",
   "execution_count": 25,
   "id": "ed99a43c",
   "metadata": {},
   "outputs": [
    {
     "data": {
      "text/plain": [
       "{0: 3116,\n",
       " 1: 2508,\n",
       " 2: 1681,\n",
       " 3: 832,\n",
       " 4: 2671,\n",
       " 5: 3953,\n",
       " 6: 764,\n",
       " 7: 4870,\n",
       " 8: 2070,\n",
       " 9: 5045,\n",
       " 10: 807,\n",
       " 11: 2491,\n",
       " 12: 3241,\n",
       " 13: 5073,\n",
       " 14: 4303,\n",
       " 15: 803,\n",
       " 16: 4993,\n",
       " 17: 824,\n",
       " 18: 4760,\n",
       " 19: 4774,\n",
       " 20: 1421,\n",
       " 21: 4989,\n",
       " 22: 2589,\n",
       " 23: 10209,\n",
       " 24: 2496,\n",
       " 25: 2761,\n",
       " 26: 872}"
      ]
     },
     "execution_count": 25,
     "metadata": {},
     "output_type": "execute_result"
    }
   ],
   "source": [
    "unique, counts = np.unique(train[\"prdtypecode\"], return_counts=True)\n",
    "dict(zip(unique, counts))"
   ]
  },
  {
   "cell_type": "code",
   "execution_count": 29,
   "id": "358bf7e0",
   "metadata": {},
   "outputs": [],
   "source": [
    "# The original images without resizing\n",
    "train[\"image_name\"] =  \"image_\" + train.imageid.astype(str)+ \"_product_\" \\\n",
    "                             + train.productid.astype(str) + \".jpg\"\n",
    "\n",
    "# The original images without resizing\n",
    "#data_train_im_resized[\"image_name\"] =  \"resized_image_\" + data_train_im_resized.imageid.astype(str)+ \\\n",
    "#                              \"_product_\" + data_train.productid.astype(str) + \".jpg\"\n"
   ]
  },
  {
   "cell_type": "code",
   "execution_count": 35,
   "id": "7834ddb8",
   "metadata": {},
   "outputs": [
    {
     "data": {
      "text/html": [
       "<div>\n",
       "<style scoped>\n",
       "    .dataframe tbody tr th:only-of-type {\n",
       "        vertical-align: middle;\n",
       "    }\n",
       "\n",
       "    .dataframe tbody tr th {\n",
       "        vertical-align: top;\n",
       "    }\n",
       "\n",
       "    .dataframe thead th {\n",
       "        text-align: right;\n",
       "    }\n",
       "</style>\n",
       "<table border=\"1\" class=\"dataframe\">\n",
       "  <thead>\n",
       "    <tr style=\"text-align: right;\">\n",
       "      <th></th>\n",
       "      <th>text</th>\n",
       "      <th>prdtypecode_org</th>\n",
       "      <th>prdtypecode</th>\n",
       "      <th>labels</th>\n",
       "      <th>image_name</th>\n",
       "    </tr>\n",
       "  </thead>\n",
       "  <tbody>\n",
       "    <tr>\n",
       "      <th>0</th>\n",
       "      <td>olivia personalisiertes notizbuch seiten punkt...</td>\n",
       "      <td>10</td>\n",
       "      <td>0</td>\n",
       "      <td>adult books</td>\n",
       "      <td>image_1263597046_product_3804725264.jpg</td>\n",
       "    </tr>\n",
       "    <tr>\n",
       "      <th>1</th>\n",
       "      <td>journal arts art marche salon art asiatique pa...</td>\n",
       "      <td>2280</td>\n",
       "      <td>18</td>\n",
       "      <td>magazines</td>\n",
       "      <td>image_1008141237_product_436067568.jpg</td>\n",
       "    </tr>\n",
       "  </tbody>\n",
       "</table>\n",
       "</div>"
      ],
      "text/plain": [
       "                                                text  prdtypecode_org  \\\n",
       "0  olivia personalisiertes notizbuch seiten punkt...               10   \n",
       "1  journal arts art marche salon art asiatique pa...             2280   \n",
       "\n",
       "   prdtypecode       labels                               image_name  \n",
       "0            0  adult books  image_1263597046_product_3804725264.jpg  \n",
       "1           18    magazines   image_1008141237_product_436067568.jpg  "
      ]
     },
     "execution_count": 35,
     "metadata": {},
     "output_type": "execute_result"
    }
   ],
   "source": [
    "train.head(2)"
   ]
  },
  {
   "cell_type": "code",
   "execution_count": 34,
   "id": "f65721cb",
   "metadata": {},
   "outputs": [],
   "source": [
    "train_all_col = train\n",
    "train = train[['text','prdtypecode_org','prdtypecode','labels','image_name']]"
   ]
  },
  {
   "cell_type": "markdown",
   "id": "7700936d",
   "metadata": {},
   "source": [
    "***Save final DataFrame for later use***"
   ]
  },
  {
   "cell_type": "markdown",
   "id": "8054056a",
   "metadata": {},
   "source": [
    "Sauvegrader le DataFrame final </br>\n",
    "- Avec Text cleaned ( avec ajout de la colonne \"text\" </br>\n",
    "- Ajout des catégories de produits </br>\n",
    "- Modification des numéro de classe à 0 à 26 </br>\n",
    "- Ajout de la colonne image_name </br>\n",
    "    "
   ]
  },
  {
   "cell_type": "code",
   "execution_count": 36,
   "id": "ac70434d",
   "metadata": {},
   "outputs": [],
   "source": [
    "train.to_pickle(path + 'df_train_final.pkl')\n",
    "train.to_csv(path + 'df_train_final.csv')\n",
    "\n",
    "train_all_col.to_pickle(path + 'df_train_final_all_col.pkl')\n",
    "train_all_col.to_csv(path + 'df_train_final_all_col.csv')"
   ]
  }
 ],
 "metadata": {
  "kernelspec": {
   "display_name": "Python 3 (ipykernel)",
   "language": "python",
   "name": "python3"
  },
  "language_info": {
   "codemirror_mode": {
    "name": "ipython",
    "version": 3
   },
   "file_extension": ".py",
   "mimetype": "text/x-python",
   "name": "python",
   "nbconvert_exporter": "python",
   "pygments_lexer": "ipython3",
   "version": "3.9.7"
  }
 },
 "nbformat": 4,
 "nbformat_minor": 5
}
