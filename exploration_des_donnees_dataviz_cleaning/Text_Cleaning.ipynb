{
 "cells": [
  {
   "cell_type": "code",
   "execution_count": 1,
   "id": "cab503ef",
   "metadata": {},
   "outputs": [],
   "source": [
    "#Fichier rackuten_project_lib.py contient les packages  \n",
    "from rackuten_project_lib import *"
   ]
  },
  {
   "cell_type": "markdown",
   "id": "6aa89e11",
   "metadata": {},
   "source": [
    "# Text Cleaning"
   ]
  },
  {
   "cell_type": "code",
   "execution_count": 53,
   "id": "4a8c7f27",
   "metadata": {},
   "outputs": [],
   "source": [
    "# path_input : directory où se trouve les fichier  X_train_update.csv , Y_train_CVw08PX.csv et X_test_update.csv\n",
    "path = 'D:/DataScienTest_WorkSpace/WS/Travail_Final/Datasets/'\n",
    "\n",
    "# path_output : directory pour sauvegarder preprocessing outputs\n",
    "path_output = 'D:/DataScienTest_WorkSpace/WS/Travail_Final/Datasets/'"
   ]
  },
  {
   "cell_type": "code",
   "execution_count": 54,
   "id": "88280c1d",
   "metadata": {},
   "outputs": [
    {
     "data": {
      "text/html": [
       "<div>\n",
       "<style scoped>\n",
       "    .dataframe tbody tr th:only-of-type {\n",
       "        vertical-align: middle;\n",
       "    }\n",
       "\n",
       "    .dataframe tbody tr th {\n",
       "        vertical-align: top;\n",
       "    }\n",
       "\n",
       "    .dataframe thead th {\n",
       "        text-align: right;\n",
       "    }\n",
       "</style>\n",
       "<table border=\"1\" class=\"dataframe\">\n",
       "  <thead>\n",
       "    <tr style=\"text-align: right;\">\n",
       "      <th></th>\n",
       "      <th>designation</th>\n",
       "      <th>description</th>\n",
       "      <th>productid</th>\n",
       "      <th>imageid</th>\n",
       "    </tr>\n",
       "  </thead>\n",
       "  <tbody>\n",
       "    <tr>\n",
       "      <th>0</th>\n",
       "      <td>Olivia: Personalisiertes Notizbuch / 150 Seite...</td>\n",
       "      <td>NaN</td>\n",
       "      <td>3804725264</td>\n",
       "      <td>1263597046</td>\n",
       "    </tr>\n",
       "    <tr>\n",
       "      <th>1</th>\n",
       "      <td>Journal Des Arts (Le) N° 133 Du 28/09/2001 - L...</td>\n",
       "      <td>NaN</td>\n",
       "      <td>436067568</td>\n",
       "      <td>1008141237</td>\n",
       "    </tr>\n",
       "    <tr>\n",
       "      <th>2</th>\n",
       "      <td>Grand Stylet Ergonomique Bleu Gamepad Nintendo...</td>\n",
       "      <td>PILOT STYLE Touch Pen de marque Speedlink est ...</td>\n",
       "      <td>201115110</td>\n",
       "      <td>938777978</td>\n",
       "    </tr>\n",
       "    <tr>\n",
       "      <th>3</th>\n",
       "      <td>Peluche Donald - Europe - Disneyland 2000 (Mar...</td>\n",
       "      <td>NaN</td>\n",
       "      <td>50418756</td>\n",
       "      <td>457047496</td>\n",
       "    </tr>\n",
       "    <tr>\n",
       "      <th>4</th>\n",
       "      <td>La Guerre Des Tuques</td>\n",
       "      <td>Luc a des id&amp;eacute;es de grandeur. Il veut or...</td>\n",
       "      <td>278535884</td>\n",
       "      <td>1077757786</td>\n",
       "    </tr>\n",
       "  </tbody>\n",
       "</table>\n",
       "</div>"
      ],
      "text/plain": [
       "                                         designation  \\\n",
       "0  Olivia: Personalisiertes Notizbuch / 150 Seite...   \n",
       "1  Journal Des Arts (Le) N° 133 Du 28/09/2001 - L...   \n",
       "2  Grand Stylet Ergonomique Bleu Gamepad Nintendo...   \n",
       "3  Peluche Donald - Europe - Disneyland 2000 (Mar...   \n",
       "4                               La Guerre Des Tuques   \n",
       "\n",
       "                                         description   productid     imageid  \n",
       "0                                                NaN  3804725264  1263597046  \n",
       "1                                                NaN   436067568  1008141237  \n",
       "2  PILOT STYLE Touch Pen de marque Speedlink est ...   201115110   938777978  \n",
       "3                                                NaN    50418756   457047496  \n",
       "4  Luc a des id&eacute;es de grandeur. Il veut or...   278535884  1077757786  "
      ]
     },
     "execution_count": 54,
     "metadata": {},
     "output_type": "execute_result"
    }
   ],
   "source": [
    "xtrain = pd.read_csv(path_input + \"X_train_update.csv\", index_col=0)\n",
    "xtrain.head(5)"
   ]
  },
  {
   "cell_type": "code",
   "execution_count": 55,
   "id": "3fb24a0c",
   "metadata": {},
   "outputs": [
    {
     "data": {
      "text/html": [
       "<div>\n",
       "<style scoped>\n",
       "    .dataframe tbody tr th:only-of-type {\n",
       "        vertical-align: middle;\n",
       "    }\n",
       "\n",
       "    .dataframe tbody tr th {\n",
       "        vertical-align: top;\n",
       "    }\n",
       "\n",
       "    .dataframe thead th {\n",
       "        text-align: right;\n",
       "    }\n",
       "</style>\n",
       "<table border=\"1\" class=\"dataframe\">\n",
       "  <thead>\n",
       "    <tr style=\"text-align: right;\">\n",
       "      <th></th>\n",
       "      <th>designation</th>\n",
       "      <th>description</th>\n",
       "      <th>productid</th>\n",
       "      <th>imageid</th>\n",
       "    </tr>\n",
       "  </thead>\n",
       "  <tbody>\n",
       "    <tr>\n",
       "      <th>84916</th>\n",
       "      <td>Folkmanis Puppets - 2732 - Marionnette Et Théâ...</td>\n",
       "      <td>NaN</td>\n",
       "      <td>516376098</td>\n",
       "      <td>1019294171</td>\n",
       "    </tr>\n",
       "    <tr>\n",
       "      <th>84917</th>\n",
       "      <td>Porte Flamme Gaxix - Flamebringer Gaxix - 136/...</td>\n",
       "      <td>NaN</td>\n",
       "      <td>133389013</td>\n",
       "      <td>1274228667</td>\n",
       "    </tr>\n",
       "    <tr>\n",
       "      <th>84918</th>\n",
       "      <td>Pompe de filtration Speck Badu 95</td>\n",
       "      <td>NaN</td>\n",
       "      <td>4128438366</td>\n",
       "      <td>1295960357</td>\n",
       "    </tr>\n",
       "    <tr>\n",
       "      <th>84919</th>\n",
       "      <td>Robot de piscine électrique</td>\n",
       "      <td>&lt;p&gt;Ce robot de piscine d&amp;#39;un design innovan...</td>\n",
       "      <td>3929899732</td>\n",
       "      <td>1265224052</td>\n",
       "    </tr>\n",
       "    <tr>\n",
       "      <th>84920</th>\n",
       "      <td>Hsm Destructeur Securio C16 Coupe Crois¿E: 4 X...</td>\n",
       "      <td>NaN</td>\n",
       "      <td>152993898</td>\n",
       "      <td>940543690</td>\n",
       "    </tr>\n",
       "  </tbody>\n",
       "</table>\n",
       "</div>"
      ],
      "text/plain": [
       "                                             designation  \\\n",
       "84916  Folkmanis Puppets - 2732 - Marionnette Et Théâ...   \n",
       "84917  Porte Flamme Gaxix - Flamebringer Gaxix - 136/...   \n",
       "84918                  Pompe de filtration Speck Badu 95   \n",
       "84919                        Robot de piscine électrique   \n",
       "84920  Hsm Destructeur Securio C16 Coupe Crois¿E: 4 X...   \n",
       "\n",
       "                                             description   productid  \\\n",
       "84916                                                NaN   516376098   \n",
       "84917                                                NaN   133389013   \n",
       "84918                                                NaN  4128438366   \n",
       "84919  <p>Ce robot de piscine d&#39;un design innovan...  3929899732   \n",
       "84920                                                NaN   152993898   \n",
       "\n",
       "          imageid  \n",
       "84916  1019294171  \n",
       "84917  1274228667  \n",
       "84918  1295960357  \n",
       "84919  1265224052  \n",
       "84920   940543690  "
      ]
     },
     "execution_count": 55,
     "metadata": {},
     "output_type": "execute_result"
    }
   ],
   "source": [
    "xtest = pd.read_csv(path_input + \"X_test_update.csv\", index_col=0)\n",
    "xtest.head(5)"
   ]
  },
  {
   "cell_type": "code",
   "execution_count": 56,
   "id": "9511b3f2",
   "metadata": {},
   "outputs": [
    {
     "data": {
      "text/html": [
       "<div>\n",
       "<style scoped>\n",
       "    .dataframe tbody tr th:only-of-type {\n",
       "        vertical-align: middle;\n",
       "    }\n",
       "\n",
       "    .dataframe tbody tr th {\n",
       "        vertical-align: top;\n",
       "    }\n",
       "\n",
       "    .dataframe thead th {\n",
       "        text-align: right;\n",
       "    }\n",
       "</style>\n",
       "<table border=\"1\" class=\"dataframe\">\n",
       "  <thead>\n",
       "    <tr style=\"text-align: right;\">\n",
       "      <th></th>\n",
       "      <th>prdtypecode</th>\n",
       "    </tr>\n",
       "  </thead>\n",
       "  <tbody>\n",
       "    <tr>\n",
       "      <th>0</th>\n",
       "      <td>10</td>\n",
       "    </tr>\n",
       "    <tr>\n",
       "      <th>1</th>\n",
       "      <td>2280</td>\n",
       "    </tr>\n",
       "    <tr>\n",
       "      <th>2</th>\n",
       "      <td>50</td>\n",
       "    </tr>\n",
       "    <tr>\n",
       "      <th>3</th>\n",
       "      <td>1280</td>\n",
       "    </tr>\n",
       "    <tr>\n",
       "      <th>4</th>\n",
       "      <td>2705</td>\n",
       "    </tr>\n",
       "  </tbody>\n",
       "</table>\n",
       "</div>"
      ],
      "text/plain": [
       "   prdtypecode\n",
       "0           10\n",
       "1         2280\n",
       "2           50\n",
       "3         1280\n",
       "4         2705"
      ]
     },
     "execution_count": 56,
     "metadata": {},
     "output_type": "execute_result"
    }
   ],
   "source": [
    "ytrain = pd.read_csv(path_input + \"Y_train_CVw08PX.csv\", index_col=0)\n",
    "ytrain.head(5)"
   ]
  },
  {
   "cell_type": "code",
   "execution_count": 57,
   "id": "8a090e2d",
   "metadata": {},
   "outputs": [
    {
     "name": "stderr",
     "output_type": "stream",
     "text": [
      "[nltk_data] Downloading package punkt to\n",
      "[nltk_data]     C:\\Users\\MME\\AppData\\Roaming\\nltk_data...\n",
      "[nltk_data]   Package punkt is already up-to-date!\n",
      "[nltk_data] Downloading package stopwords to\n",
      "[nltk_data]     C:\\Users\\MME\\AppData\\Roaming\\nltk_data...\n",
      "[nltk_data]   Package stopwords is already up-to-date!\n"
     ]
    }
   ],
   "source": [
    "import nltk\n",
    "nltk.download('punkt')\n",
    "nltk.download(\"stopwords\")\n",
    "from nltk.corpus import stopwords\n",
    "from nltk.tokenize import word_tokenize\n",
    "stop_words=set(stopwords.words('french'))\n",
    "from nltk.stem.snowball import FrenchStemmer\n",
    "import re"
   ]
  },
  {
   "cell_type": "code",
   "execution_count": 58,
   "id": "a0551dbb",
   "metadata": {},
   "outputs": [],
   "source": [
    "xtrain['designation'] = xtrain['designation'].astype('string')\n",
    "xtest['designation'] = xtest['designation'].astype('string')\n",
    "\n",
    "xtrain['description'] = xtrain['description'].astype('string')\n",
    "xtest['description'] = xtest['description'].astype('string')"
   ]
  },
  {
   "cell_type": "code",
   "execution_count": 8,
   "id": "0d6aa7e3",
   "metadata": {},
   "outputs": [],
   "source": [
    "def create_text(text1, text2):\n",
    "    if pd.isna(text2):\n",
    "        text = text1\n",
    "    else:\n",
    "        text = text1 +\" \"+ text2\n",
    "    return text"
   ]
  },
  {
   "cell_type": "code",
   "execution_count": 9,
   "id": "6ce73c79",
   "metadata": {},
   "outputs": [
    {
     "name": "stderr",
     "output_type": "stream",
     "text": [
      "C:\\Users\\MME\\AppData\\Local\\Temp/ipykernel_14812/2540916238.py:3: SettingWithCopyWarning: \n",
      "A value is trying to be set on a copy of a slice from a DataFrame\n",
      "\n",
      "See the caveats in the documentation: https://pandas.pydata.org/pandas-docs/stable/user_guide/indexing.html#returning-a-view-versus-a-copy\n",
      "  xtrain['text'][i] = create_text(xtrain['designation'][i], xtrain['description'][i])\n"
     ]
    }
   ],
   "source": [
    "xtrain['text']=\"\"\n",
    "for i in range(xtrain.shape[0]):\n",
    "    xtrain['text'][i] = create_text(xtrain['designation'][i], xtrain['description'][i])"
   ]
  },
  {
   "cell_type": "code",
   "execution_count": 10,
   "id": "3ab700ef",
   "metadata": {},
   "outputs": [],
   "source": [
    "#xtest['text']=\"\"\n",
    "#for i in range(84916, 98728):\n",
    "#    xtest['text'][i] = create_text(xtest['designation'][i], xtest['description'][i])"
   ]
  },
  {
   "cell_type": "code",
   "execution_count": 11,
   "id": "1a168820",
   "metadata": {},
   "outputs": [],
   "source": [
    "xtrain['text'] = xtrain['text'].str.split()\n",
    "#xtest['text'] = xtest['text'].str.split()"
   ]
  },
  {
   "cell_type": "code",
   "execution_count": 12,
   "id": "ae68785f",
   "metadata": {},
   "outputs": [],
   "source": [
    "def unique_description(text):\n",
    "    unique=[text[0]]\n",
    "    for mot in text:\n",
    "        if mot not in unique:\n",
    "            unique.append(mot)\n",
    "    return unique"
   ]
  },
  {
   "cell_type": "code",
   "execution_count": 13,
   "id": "e7615624",
   "metadata": {},
   "outputs": [],
   "source": [
    "xtrain['text'] = xtrain['text'].apply(lambda x: unique_description(x))\n",
    "#xtest['text'] = xtest['text'].apply(lambda x: unique_description(x))"
   ]
  },
  {
   "cell_type": "code",
   "execution_count": 14,
   "id": "94228538",
   "metadata": {},
   "outputs": [],
   "source": [
    "xtrain['text'] = xtrain['text'].apply(lambda x: \" \".join(x))\n",
    "#xtest['text'] = xtest['text'].apply(lambda x: \" \".join(x))"
   ]
  },
  {
   "cell_type": "code",
   "execution_count": 15,
   "id": "c5ba1f6d",
   "metadata": {},
   "outputs": [
    {
     "data": {
      "text/html": [
       "<div>\n",
       "<style scoped>\n",
       "    .dataframe tbody tr th:only-of-type {\n",
       "        vertical-align: middle;\n",
       "    }\n",
       "\n",
       "    .dataframe tbody tr th {\n",
       "        vertical-align: top;\n",
       "    }\n",
       "\n",
       "    .dataframe thead th {\n",
       "        text-align: right;\n",
       "    }\n",
       "</style>\n",
       "<table border=\"1\" class=\"dataframe\">\n",
       "  <thead>\n",
       "    <tr style=\"text-align: right;\">\n",
       "      <th></th>\n",
       "      <th>designation</th>\n",
       "      <th>description</th>\n",
       "      <th>productid</th>\n",
       "      <th>imageid</th>\n",
       "      <th>text</th>\n",
       "    </tr>\n",
       "  </thead>\n",
       "  <tbody>\n",
       "    <tr>\n",
       "      <th>0</th>\n",
       "      <td>Olivia: Personalisiertes Notizbuch / 150 Seite...</td>\n",
       "      <td>&lt;NA&gt;</td>\n",
       "      <td>3804725264</td>\n",
       "      <td>1263597046</td>\n",
       "      <td>Olivia: Personalisiertes Notizbuch / 150 Seite...</td>\n",
       "    </tr>\n",
       "    <tr>\n",
       "      <th>1</th>\n",
       "      <td>Journal Des Arts (Le) N° 133 Du 28/09/2001 - L...</td>\n",
       "      <td>&lt;NA&gt;</td>\n",
       "      <td>436067568</td>\n",
       "      <td>1008141237</td>\n",
       "      <td>Journal Des Arts (Le) N° 133 Du 28/09/2001 - L...</td>\n",
       "    </tr>\n",
       "    <tr>\n",
       "      <th>2</th>\n",
       "      <td>Grand Stylet Ergonomique Bleu Gamepad Nintendo...</td>\n",
       "      <td>PILOT STYLE Touch Pen de marque Speedlink est ...</td>\n",
       "      <td>201115110</td>\n",
       "      <td>938777978</td>\n",
       "      <td>Grand Stylet Ergonomique Bleu Gamepad Nintendo...</td>\n",
       "    </tr>\n",
       "    <tr>\n",
       "      <th>3</th>\n",
       "      <td>Peluche Donald - Europe - Disneyland 2000 (Mar...</td>\n",
       "      <td>&lt;NA&gt;</td>\n",
       "      <td>50418756</td>\n",
       "      <td>457047496</td>\n",
       "      <td>Peluche Donald - Europe Disneyland 2000 (Mario...</td>\n",
       "    </tr>\n",
       "    <tr>\n",
       "      <th>4</th>\n",
       "      <td>La Guerre Des Tuques</td>\n",
       "      <td>Luc a des id&amp;eacute;es de grandeur. Il veut or...</td>\n",
       "      <td>278535884</td>\n",
       "      <td>1077757786</td>\n",
       "      <td>La Guerre Des Tuques Luc a des id&amp;eacute;es de...</td>\n",
       "    </tr>\n",
       "  </tbody>\n",
       "</table>\n",
       "</div>"
      ],
      "text/plain": [
       "                                         designation  \\\n",
       "0  Olivia: Personalisiertes Notizbuch / 150 Seite...   \n",
       "1  Journal Des Arts (Le) N° 133 Du 28/09/2001 - L...   \n",
       "2  Grand Stylet Ergonomique Bleu Gamepad Nintendo...   \n",
       "3  Peluche Donald - Europe - Disneyland 2000 (Mar...   \n",
       "4                               La Guerre Des Tuques   \n",
       "\n",
       "                                         description   productid     imageid  \\\n",
       "0                                               <NA>  3804725264  1263597046   \n",
       "1                                               <NA>   436067568  1008141237   \n",
       "2  PILOT STYLE Touch Pen de marque Speedlink est ...   201115110   938777978   \n",
       "3                                               <NA>    50418756   457047496   \n",
       "4  Luc a des id&eacute;es de grandeur. Il veut or...   278535884  1077757786   \n",
       "\n",
       "                                                text  \n",
       "0  Olivia: Personalisiertes Notizbuch / 150 Seite...  \n",
       "1  Journal Des Arts (Le) N° 133 Du 28/09/2001 - L...  \n",
       "2  Grand Stylet Ergonomique Bleu Gamepad Nintendo...  \n",
       "3  Peluche Donald - Europe Disneyland 2000 (Mario...  \n",
       "4  La Guerre Des Tuques Luc a des id&eacute;es de...  "
      ]
     },
     "execution_count": 15,
     "metadata": {},
     "output_type": "execute_result"
    }
   ],
   "source": [
    "xtrain.head()"
   ]
  },
  {
   "cell_type": "code",
   "execution_count": 16,
   "id": "0528a59a",
   "metadata": {},
   "outputs": [
    {
     "data": {
      "text/plain": [
       "'Grand Stylet Ergonomique Bleu Gamepad Nintendo Wii U - Speedlink Pilot Style'"
      ]
     },
     "execution_count": 16,
     "metadata": {},
     "output_type": "execute_result"
    }
   ],
   "source": [
    "xtrain['designation'][2]"
   ]
  },
  {
   "cell_type": "code",
   "execution_count": 17,
   "id": "f614e02a",
   "metadata": {},
   "outputs": [
    {
     "data": {
      "text/plain": [
       "'PILOT STYLE Touch Pen de marque Speedlink est 1 stylet ergonomique pour GamePad Nintendo Wii U.<br> Pour un confort optimal et une précision maximale sur le GamePad de la Wii U: ce grand stylet hautement ergonomique est non seulement parfaitement adapté à votre main mais aussi très élégant.<br> Il est livré avec un support qui se fixe sans adhésif à l\\'arrière du GamePad<br> <br> Caractéristiques:<br> Modèle: Speedlink PILOT STYLE Touch Pen<br> Couleur: Bleu<br> Ref. Fabricant: SL-3468-BE<br> Compatibilité: GamePad Nintendo Wii U<br> Forme particulièrement ergonomique excellente tenue en main<br> Pointe à revêtement longue durée conçue pour ne pas abîmer l\\'écran tactile<br> En bonus : Support inclu pour GamePad<br> <span class=\"vga_style2\"><b></b><br>'"
      ]
     },
     "execution_count": 17,
     "metadata": {},
     "output_type": "execute_result"
    }
   ],
   "source": [
    "xtrain['description'][2]"
   ]
  },
  {
   "cell_type": "code",
   "execution_count": 18,
   "id": "6d631ef5",
   "metadata": {},
   "outputs": [
    {
     "data": {
      "text/plain": [
       "'Grand Stylet Ergonomique Bleu Gamepad Nintendo Wii U - Speedlink Pilot Style PILOT STYLE Touch Pen de marque est 1 stylet ergonomique pour GamePad U.<br> Pour un confort optimal et une précision maximale sur le la U: ce grand hautement non seulement parfaitement adapté à votre main mais aussi très élégant.<br> Il livré avec support qui se fixe sans adhésif l\\'arrière du GamePad<br> <br> Caractéristiques:<br> Modèle: Pen<br> Couleur: Bleu<br> Ref. Fabricant: SL-3468-BE<br> Compatibilité: U<br> Forme particulièrement excellente tenue en main<br> Pointe revêtement longue durée conçue ne pas abîmer l\\'écran tactile<br> En bonus : Support inclu <span class=\"vga_style2\"><b></b><br>'"
      ]
     },
     "execution_count": 18,
     "metadata": {},
     "output_type": "execute_result"
    }
   ],
   "source": [
    "xtrain['text'][2]"
   ]
  },
  {
   "cell_type": "code",
   "execution_count": 19,
   "id": "9b81cd1b",
   "metadata": {},
   "outputs": [],
   "source": [
    "def lower_case(text):\n",
    "    text = text.lower().strip()\n",
    "    return text\n",
    "\n",
    "xtrain['text'] = xtrain['text'].apply(lambda text : lower_case(text))"
   ]
  },
  {
   "cell_type": "code",
   "execution_count": 20,
   "id": "cacfd149",
   "metadata": {},
   "outputs": [
    {
     "data": {
      "text/html": [
       "<div>\n",
       "<style scoped>\n",
       "    .dataframe tbody tr th:only-of-type {\n",
       "        vertical-align: middle;\n",
       "    }\n",
       "\n",
       "    .dataframe tbody tr th {\n",
       "        vertical-align: top;\n",
       "    }\n",
       "\n",
       "    .dataframe thead th {\n",
       "        text-align: right;\n",
       "    }\n",
       "</style>\n",
       "<table border=\"1\" class=\"dataframe\">\n",
       "  <thead>\n",
       "    <tr style=\"text-align: right;\">\n",
       "      <th></th>\n",
       "      <th>designation</th>\n",
       "      <th>description</th>\n",
       "      <th>productid</th>\n",
       "      <th>imageid</th>\n",
       "      <th>text</th>\n",
       "    </tr>\n",
       "  </thead>\n",
       "  <tbody>\n",
       "    <tr>\n",
       "      <th>0</th>\n",
       "      <td>Olivia: Personalisiertes Notizbuch / 150 Seite...</td>\n",
       "      <td>&lt;NA&gt;</td>\n",
       "      <td>3804725264</td>\n",
       "      <td>1263597046</td>\n",
       "      <td>olivia: personalisiertes notizbuch / 150 seite...</td>\n",
       "    </tr>\n",
       "    <tr>\n",
       "      <th>1</th>\n",
       "      <td>Journal Des Arts (Le) N° 133 Du 28/09/2001 - L...</td>\n",
       "      <td>&lt;NA&gt;</td>\n",
       "      <td>436067568</td>\n",
       "      <td>1008141237</td>\n",
       "      <td>journal des arts (le) n° 133 du 28/09/2001 - l...</td>\n",
       "    </tr>\n",
       "    <tr>\n",
       "      <th>2</th>\n",
       "      <td>Grand Stylet Ergonomique Bleu Gamepad Nintendo...</td>\n",
       "      <td>PILOT STYLE Touch Pen de marque Speedlink est ...</td>\n",
       "      <td>201115110</td>\n",
       "      <td>938777978</td>\n",
       "      <td>grand stylet ergonomique bleu gamepad nintendo...</td>\n",
       "    </tr>\n",
       "    <tr>\n",
       "      <th>3</th>\n",
       "      <td>Peluche Donald - Europe - Disneyland 2000 (Mar...</td>\n",
       "      <td>&lt;NA&gt;</td>\n",
       "      <td>50418756</td>\n",
       "      <td>457047496</td>\n",
       "      <td>peluche donald - europe disneyland 2000 (mario...</td>\n",
       "    </tr>\n",
       "    <tr>\n",
       "      <th>4</th>\n",
       "      <td>La Guerre Des Tuques</td>\n",
       "      <td>Luc a des id&amp;eacute;es de grandeur. Il veut or...</td>\n",
       "      <td>278535884</td>\n",
       "      <td>1077757786</td>\n",
       "      <td>la guerre des tuques luc a des id&amp;eacute;es de...</td>\n",
       "    </tr>\n",
       "  </tbody>\n",
       "</table>\n",
       "</div>"
      ],
      "text/plain": [
       "                                         designation  \\\n",
       "0  Olivia: Personalisiertes Notizbuch / 150 Seite...   \n",
       "1  Journal Des Arts (Le) N° 133 Du 28/09/2001 - L...   \n",
       "2  Grand Stylet Ergonomique Bleu Gamepad Nintendo...   \n",
       "3  Peluche Donald - Europe - Disneyland 2000 (Mar...   \n",
       "4                               La Guerre Des Tuques   \n",
       "\n",
       "                                         description   productid     imageid  \\\n",
       "0                                               <NA>  3804725264  1263597046   \n",
       "1                                               <NA>   436067568  1008141237   \n",
       "2  PILOT STYLE Touch Pen de marque Speedlink est ...   201115110   938777978   \n",
       "3                                               <NA>    50418756   457047496   \n",
       "4  Luc a des id&eacute;es de grandeur. Il veut or...   278535884  1077757786   \n",
       "\n",
       "                                                text  \n",
       "0  olivia: personalisiertes notizbuch / 150 seite...  \n",
       "1  journal des arts (le) n° 133 du 28/09/2001 - l...  \n",
       "2  grand stylet ergonomique bleu gamepad nintendo...  \n",
       "3  peluche donald - europe disneyland 2000 (mario...  \n",
       "4  la guerre des tuques luc a des id&eacute;es de...  "
      ]
     },
     "execution_count": 20,
     "metadata": {},
     "output_type": "execute_result"
    }
   ],
   "source": [
    "xtrain.head()"
   ]
  },
  {
   "cell_type": "code",
   "execution_count": 21,
   "id": "2e8d73a5",
   "metadata": {},
   "outputs": [],
   "source": [
    "def remove_accent(string):\n",
    "    string = string.replace('á', 'a')\n",
    "    string = string.replace('â', 'a')\n",
    "\n",
    "    string = string.replace('é', 'e')\n",
    "    string = string.replace('è', 'e')\n",
    "    string = string.replace('ê', 'e')\n",
    "    string = string.replace('ë', 'e')\n",
    "\n",
    "    string = string.replace('î', 'i')\n",
    "    string = string.replace('ï', 'i')\n",
    "\n",
    "    string = string.replace('ö', 'o')\n",
    "    string = string.replace('ô', 'o')\n",
    "    string = string.replace('ò', 'o')\n",
    "    string = string.replace('ó', 'o')\n",
    "\n",
    "    string = string.replace('ù', 'u')\n",
    "    string = string.replace('û', 'u')\n",
    "    string = string.replace('ü', 'u')\n",
    "\n",
    "    string = string.replace('ç', 'c')\n",
    "\n",
    "    \n",
    "    return string"
   ]
  },
  {
   "cell_type": "code",
   "execution_count": 22,
   "id": "05deb0ed",
   "metadata": {},
   "outputs": [],
   "source": [
    "xtrain['text'] = xtrain['text'].apply(lambda text : remove_accent(text))"
   ]
  },
  {
   "cell_type": "code",
   "execution_count": 23,
   "id": "3ccb8af5",
   "metadata": {},
   "outputs": [],
   "source": [
    "def remove_htmltags(text):\n",
    "    text = re.sub('<[^<]+?>', '',text)\n",
    "    return text\n",
    "\n",
    "xtrain['text'] = xtrain['text'].apply(lambda text : remove_htmltags(text))"
   ]
  },
  {
   "cell_type": "code",
   "execution_count": 24,
   "id": "7eb3f441",
   "metadata": {},
   "outputs": [],
   "source": [
    "def keeping_essentiel(text):\n",
    "    text = re.sub(r\"[^a-zA-Z]+\", \" \", text)\n",
    "    return text\n",
    "\n",
    "xtrain['text'] = xtrain['text'].apply(lambda text : keeping_essentiel(text))"
   ]
  },
  {
   "cell_type": "code",
   "execution_count": 25,
   "id": "490dcbeb",
   "metadata": {},
   "outputs": [],
   "source": [
    "# Importer stopwords de la classe nltk.corpus\n",
    "from nltk.corpus import stopwords\n",
    "\n",
    "# Initialiser la variable des mots vides\n",
    "stop_words = stopwords.words('french') + stopwords.words('english') + stopwords.words('german') +['plus', 'peut', 'tout', 'etre', 'sans', 'dont', 'aussi', 'comme', 'meme', 'bien','leurs', 'elles', 'cette','celui', 'ainsi', 'encore', 'alors', 'toujours', 'toute','deux', 'nouveau', 'peu', 'car', 'autre', 'jusqu', 'quand', 'ici', 'ceux', 'enfin', 'jamais', 'autant', 'tant', 'avoir', 'moin', 'celle', 'tous', 'contre', 'pourtant', 'quelque', 'toutes', 'surtout', 'cet', 'comment', 'rien', 'avant', 'doit', 'autre', 'depuis', 'moins', 'tre', 'souvent', 'etait', 'pouvoir', 'apre', 'non', 'ver', 'quel', 'pourquoi', 'certain', 'fait', 'faire', 'sou', 'donc', 'trop', 'quelques', 'parfois', 'tres', 'donc', 'dire', 'eacute', 'egrave', 'rsquo', 'agrave', 'ecirc', 'nbsp', 'acirc', 'apres', 'autres', 'ocirc', 'entre', 'sous', 'quelle']\n"
   ]
  },
  {
   "cell_type": "code",
   "execution_count": 26,
   "id": "c4cc88d0",
   "metadata": {},
   "outputs": [],
   "source": [
    "def operation(list):\n",
    "    list1=[]\n",
    "    for mot in list:\n",
    "        if (mot not in stop_words and len(mot)>2):\n",
    "            list1.append(mot)\n",
    "    return list1"
   ]
  },
  {
   "cell_type": "code",
   "execution_count": 27,
   "id": "2caa0274",
   "metadata": {},
   "outputs": [],
   "source": [
    "xtrain['text'] = xtrain['text'].str.split()"
   ]
  },
  {
   "cell_type": "code",
   "execution_count": 28,
   "id": "abb7bea4",
   "metadata": {},
   "outputs": [],
   "source": [
    "xtrain['text']= xtrain['text'].apply(lambda x: operation(x))"
   ]
  },
  {
   "cell_type": "code",
   "execution_count": 29,
   "id": "e0e6de0e",
   "metadata": {},
   "outputs": [],
   "source": [
    "xtrain['text'] = xtrain['text'].apply(lambda x: \" \".join(x))"
   ]
  },
  {
   "cell_type": "code",
   "execution_count": 30,
   "id": "4796e582",
   "metadata": {},
   "outputs": [],
   "source": [
    "def lower_case(text):\n",
    "    text = text.lower().strip()\n",
    "    return text\n",
    "\n",
    "xtrain['text'] = xtrain['text'].apply(lambda text : lower_case(text))\n",
    "#xtest['text'] = xtest['text'].apply(lambda text : lower_case(text))"
   ]
  },
  {
   "cell_type": "code",
   "execution_count": 31,
   "id": "c442e06c",
   "metadata": {},
   "outputs": [],
   "source": [
    "\n",
    "def remove_accent(string):\n",
    "    string = string.replace('á', 'a')\n",
    "    string = string.replace('â', 'a')\n",
    "\n",
    "    string = string.replace('é', 'e')\n",
    "    string = string.replace('è', 'e')\n",
    "    string = string.replace('ê', 'e')\n",
    "    string = string.replace('ë', 'e')\n",
    "\n",
    "    string = string.replace('î', 'i')\n",
    "    string = string.replace('ï', 'i')\n",
    "\n",
    "    string = string.replace('ö', 'o')\n",
    "    string = string.replace('ô', 'o')\n",
    "    string = string.replace('ò', 'o')\n",
    "    string = string.replace('ó', 'o')\n",
    "\n",
    "    string = string.replace('ù', 'u')\n",
    "    string = string.replace('û', 'u')\n",
    "    string = string.replace('ü', 'u')\n",
    "\n",
    "    string = string.replace('ç', 'c')\n",
    "\n",
    "    \n",
    "    return string"
   ]
  },
  {
   "cell_type": "code",
   "execution_count": 32,
   "id": "af3b0c23",
   "metadata": {},
   "outputs": [],
   "source": [
    "xtrain['text'] = xtrain['text'].apply(lambda text : remove_accent(text))\n",
    "#xtest['text'] = xtest['text'].apply(lambda text : remove_accent(text))"
   ]
  },
  {
   "cell_type": "code",
   "execution_count": 33,
   "id": "418530a3",
   "metadata": {},
   "outputs": [],
   "source": [
    "def remove_htmltags(text):\n",
    "    text = re.sub('<[^<]+?>', '',text)\n",
    "    return text\n",
    "\n",
    "xtrain['text'] = xtrain['text'].apply(lambda text : remove_htmltags(text))\n",
    "#xtest['text'] = xtest['text'].apply(lambda text : remove_htmltags(text))"
   ]
  },
  {
   "cell_type": "code",
   "execution_count": 34,
   "id": "9a4b4e58",
   "metadata": {},
   "outputs": [],
   "source": [
    "def keeping_essentiel(text):\n",
    "    text = re.sub(r\"[^a-zA-Z]+\", \" \", text)\n",
    "    return text\n",
    "\n",
    "xtrain['text'] = xtrain['text'].apply(lambda text : keeping_essentiel(text))\n",
    "#xtest['text'] = xtest['text'].apply(lambda text : keeping_essentiel(text))"
   ]
  },
  {
   "cell_type": "code",
   "execution_count": 35,
   "id": "01d4942d",
   "metadata": {},
   "outputs": [],
   "source": [
    "# Importer stopwords de la classe nltk.corpus\n",
    "from nltk.corpus import stopwords\n",
    "\n",
    "# Initialiser la variable des mots vides\n",
    "stop_words = stopwords.words('french') + stopwords.words('english') + stopwords.words('german') +[ \\\n",
    "                'plus', 'peut', 'tout', 'etre', 'sans', 'dont', 'aussi',  \\\n",
    "                  'comme', 'meme', 'bien','leurs', 'elles', 'cette','celui',   \\\n",
    "                  'ainsi', 'encore', 'alors', 'toujours', 'toute','deux', 'nouveau',   \\\n",
    "                  'peu', 'car', 'autre', 'jusqu', 'quand', 'ici', 'ceux', 'enfin',  \\\n",
    "                  'jamais', 'autant', 'tant', 'avoir', 'moin', 'celle', 'tous',   \\\n",
    "                  'contre', 'pourtant', 'quelque', 'toutes', 'surtout', 'cet',  \\\n",
    "                  'comment', 'rien', 'avant', 'doit', 'autre', 'depuis', 'moins',  \\\n",
    "                  'tre', 'souvent', 'etait', 'pouvoir', 'apre', 'non', 'ver', 'quel',   \\\n",
    "                  'pourquoi', 'certain', 'fait', 'faire', 'sou', 'donc', 'trop',  \\\n",
    "                  'quelques', 'parfois', 'tres', 'donc', 'dire', 'eacute', 'egrave',  \\\n",
    "                  'rsquo', 'agrave', 'ecirc', 'nbsp', 'acirc', 'apres', 'autres',  \\\n",
    "                  'ocirc', 'entre', 'sous', 'quelle']\n"
   ]
  },
  {
   "cell_type": "code",
   "execution_count": 36,
   "id": "57080983",
   "metadata": {},
   "outputs": [],
   "source": [
    "def operation(list):\n",
    "    list1=[]\n",
    "    for mot in list:\n",
    "        if (mot not in stop_words and len(mot)>2):\n",
    "            list1.append(mot)\n",
    "    return list1"
   ]
  },
  {
   "cell_type": "code",
   "execution_count": 37,
   "id": "233fa473",
   "metadata": {},
   "outputs": [],
   "source": [
    "xtrain['text'] = xtrain['text'].str.split()\n",
    "#xtest['text'] = xtest['text'].str.split()"
   ]
  },
  {
   "cell_type": "code",
   "execution_count": 38,
   "id": "695d1145",
   "metadata": {},
   "outputs": [],
   "source": [
    "xtrain['text']= xtrain['text'].apply(lambda x: operation(x))\n",
    "#xtest['text']= xtest['text'].apply(lambda x: operation(x))"
   ]
  },
  {
   "cell_type": "code",
   "execution_count": 39,
   "id": "e27f4da6",
   "metadata": {},
   "outputs": [],
   "source": [
    "xtrain['text'] = xtrain['text'].apply(lambda x: \" \".join(x))\n",
    "#xtest['text'] = xtest['text'].apply(lambda x: \" \".join(x))"
   ]
  },
  {
   "cell_type": "markdown",
   "id": "d3a26b06",
   "metadata": {},
   "source": [
    "***Stemming (n'a pas été prise en compte au final pour la suite )***"
   ]
  },
  {
   "cell_type": "code",
   "execution_count": 40,
   "id": "e11452bf",
   "metadata": {},
   "outputs": [],
   "source": [
    "#Importer la pckage nécessaire\n",
    "#from nltk.tokenize.regexp import RegexpTokenizer\n",
    "\n",
    "# Initialiser un tokenisteur \n",
    "#tokenizer = RegexpTokenizer(\"[a-zA-Zé]{4,}\")"
   ]
  },
  {
   "cell_type": "code",
   "execution_count": 41,
   "id": "1d31fd75",
   "metadata": {},
   "outputs": [],
   "source": [
    "#from nltk.stem.snowball import FrenchStemmer\n",
    "\n",
    "# Créer un lemmatiseur\n",
    "#porter_stemmer = FrenchStemmer()"
   ]
  },
  {
   "cell_type": "code",
   "execution_count": 42,
   "id": "1580a2e4",
   "metadata": {},
   "outputs": [],
   "source": [
    "##  Définir la fonction stemming\n",
    "#def stemming(mots) :\n",
    "#    sortie = []\n",
    "#    for string in mots :\n",
    "#        radical = porter_stemmer.stem(string)\n",
    "#        if (radica#l not in sortie) : sortie.append(radical)\n",
    "#    return sortie"
   ]
  },
  {
   "cell_type": "code",
   "execution_count": 43,
   "id": "31e2b467",
   "metadata": {},
   "outputs": [],
   "source": [
    "#Xtrain['text']= Xtrain['text'].apply(lambda x: stemming(tokenizer.tokenize(x)))"
   ]
  },
  {
   "cell_type": "code",
   "execution_count": 44,
   "id": "a4f22620",
   "metadata": {},
   "outputs": [],
   "source": [
    "#Xtrain['text'] = Xtrain['text'].apply(lambda x: \" \".join(x))"
   ]
  },
  {
   "cell_type": "code",
   "execution_count": 45,
   "id": "9760c04d",
   "metadata": {},
   "outputs": [],
   "source": [
    "#Xtrain.head()"
   ]
  },
  {
   "cell_type": "code",
   "execution_count": 46,
   "id": "5c293524",
   "metadata": {},
   "outputs": [],
   "source": [
    "#Xtest['text']= Xtest['text'].apply(lambda x: stemming(tokenizer.tokenize(x)))"
   ]
  },
  {
   "cell_type": "code",
   "execution_count": 47,
   "id": "7ba517d3",
   "metadata": {},
   "outputs": [],
   "source": [
    "#Xtest['text'] = Xtest['text'].apply(lambda x: \" \".join(x))"
   ]
  },
  {
   "cell_type": "markdown",
   "id": "9941bedd",
   "metadata": {},
   "source": [
    "***Save final cleaned text***"
   ]
  },
  {
   "cell_type": "code",
   "execution_count": 52,
   "id": "06dde91d",
   "metadata": {},
   "outputs": [],
   "source": [
    "xtrain.to_pickle(path_output + 'x_train_cleaned_V0.pkl')\n",
    "ytrain.to_pickle(path_output + 'ytrain_V0.pkl')\n",
    "\n",
    "xtrain.to_csv(path_output + 'x_train_cleaned_V0.csv')\n",
    "ytrain.to_csv(path_output + 'ytrain_V0.csv')"
   ]
  }
 ],
 "metadata": {
  "kernelspec": {
   "display_name": "Python 3 (ipykernel)",
   "language": "python",
   "name": "python3"
  },
  "language_info": {
   "codemirror_mode": {
    "name": "ipython",
    "version": 3
   },
   "file_extension": ".py",
   "mimetype": "text/x-python",
   "name": "python",
   "nbconvert_exporter": "python",
   "pygments_lexer": "ipython3",
   "version": "3.9.7"
  }
 },
 "nbformat": 4,
 "nbformat_minor": 5
}
